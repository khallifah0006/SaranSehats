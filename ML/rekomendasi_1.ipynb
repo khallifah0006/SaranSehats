{
 "cells": [
  {
   "cell_type": "code",
   "execution_count": 1,
   "id": "c71118c5",
   "metadata": {},
   "outputs": [],
   "source": [
    "import numpy as np\n",
    "import pandas as pd\n",
    "from sklearn.preprocessing import LabelEncoder, StandardScaler, MultiLabelBinarizer\n",
    "from sklearn.model_selection import train_test_split\n",
    "from imblearn.over_sampling import RandomOverSampler\n",
    "import tensorflow as tf\n",
    "from tensorflow.keras import layers, models\n",
    "from tensorflow.keras.callbacks import EarlyStopping\n",
    "import matplotlib.pyplot as plt\n",
    "\n",
    "import os"
   ]
  },
  {
   "cell_type": "code",
   "execution_count": 2,
   "id": "d6aa56b3",
   "metadata": {},
   "outputs": [
    {
     "data": {
      "text/html": [
       "<div>\n",
       "<style scoped>\n",
       "    .dataframe tbody tr th:only-of-type {\n",
       "        vertical-align: middle;\n",
       "    }\n",
       "\n",
       "    .dataframe tbody tr th {\n",
       "        vertical-align: top;\n",
       "    }\n",
       "\n",
       "    .dataframe thead th {\n",
       "        text-align: right;\n",
       "    }\n",
       "</style>\n",
       "<table border=\"1\" class=\"dataframe\">\n",
       "  <thead>\n",
       "    <tr style=\"text-align: right;\">\n",
       "      <th></th>\n",
       "      <th>participant_id</th>\n",
       "      <th>date</th>\n",
       "      <th>age</th>\n",
       "      <th>gender</th>\n",
       "      <th>height_cm</th>\n",
       "      <th>weight_kg</th>\n",
       "      <th>activity_type</th>\n",
       "      <th>duration_minutes</th>\n",
       "      <th>intensity</th>\n",
       "      <th>calories_burned</th>\n",
       "      <th>...</th>\n",
       "      <th>bmi</th>\n",
       "      <th>resting_heart_rate</th>\n",
       "      <th>blood_pressure_systolic</th>\n",
       "      <th>blood_pressure_diastolic</th>\n",
       "      <th>health_condition</th>\n",
       "      <th>smoking_status</th>\n",
       "      <th>fitness_level</th>\n",
       "      <th>recommendation_1</th>\n",
       "      <th>recommendation_2</th>\n",
       "      <th>recommendation_3</th>\n",
       "    </tr>\n",
       "  </thead>\n",
       "  <tbody>\n",
       "    <tr>\n",
       "      <th>0</th>\n",
       "      <td>1</td>\n",
       "      <td>2024-01-01</td>\n",
       "      <td>56</td>\n",
       "      <td>F</td>\n",
       "      <td>165.3</td>\n",
       "      <td>53.7</td>\n",
       "      <td>Dancing</td>\n",
       "      <td>41</td>\n",
       "      <td>Low</td>\n",
       "      <td>3.3</td>\n",
       "      <td>...</td>\n",
       "      <td>19.6</td>\n",
       "      <td>69.5</td>\n",
       "      <td>110.7</td>\n",
       "      <td>72.9</td>\n",
       "      <td>NaN</td>\n",
       "      <td>Never</td>\n",
       "      <td>0.04</td>\n",
       "      <td>Berenang</td>\n",
       "      <td>Berjalan</td>\n",
       "      <td>Berjalan</td>\n",
       "    </tr>\n",
       "    <tr>\n",
       "      <th>1</th>\n",
       "      <td>1</td>\n",
       "      <td>2024-01-04</td>\n",
       "      <td>56</td>\n",
       "      <td>F</td>\n",
       "      <td>165.3</td>\n",
       "      <td>53.9</td>\n",
       "      <td>Swimming</td>\n",
       "      <td>28</td>\n",
       "      <td>Low</td>\n",
       "      <td>2.9</td>\n",
       "      <td>...</td>\n",
       "      <td>19.6</td>\n",
       "      <td>69.5</td>\n",
       "      <td>110.7</td>\n",
       "      <td>72.9</td>\n",
       "      <td>NaN</td>\n",
       "      <td>Never</td>\n",
       "      <td>0.07</td>\n",
       "      <td>Berjalan</td>\n",
       "      <td>Berenang</td>\n",
       "      <td>Sepeda</td>\n",
       "    </tr>\n",
       "    <tr>\n",
       "      <th>2</th>\n",
       "      <td>1</td>\n",
       "      <td>2024-01-05</td>\n",
       "      <td>56</td>\n",
       "      <td>F</td>\n",
       "      <td>165.3</td>\n",
       "      <td>54.2</td>\n",
       "      <td>Swimming</td>\n",
       "      <td>21</td>\n",
       "      <td>Medium</td>\n",
       "      <td>2.6</td>\n",
       "      <td>...</td>\n",
       "      <td>19.6</td>\n",
       "      <td>69.5</td>\n",
       "      <td>110.7</td>\n",
       "      <td>72.9</td>\n",
       "      <td>NaN</td>\n",
       "      <td>Never</td>\n",
       "      <td>0.09</td>\n",
       "      <td>Berjalan</td>\n",
       "      <td>Berenang</td>\n",
       "      <td>Sepeda</td>\n",
       "    </tr>\n",
       "    <tr>\n",
       "      <th>3</th>\n",
       "      <td>1</td>\n",
       "      <td>2024-01-07</td>\n",
       "      <td>56</td>\n",
       "      <td>F</td>\n",
       "      <td>165.3</td>\n",
       "      <td>54.4</td>\n",
       "      <td>Weight Training</td>\n",
       "      <td>99</td>\n",
       "      <td>Medium</td>\n",
       "      <td>10.7</td>\n",
       "      <td>...</td>\n",
       "      <td>19.6</td>\n",
       "      <td>69.5</td>\n",
       "      <td>110.7</td>\n",
       "      <td>72.9</td>\n",
       "      <td>NaN</td>\n",
       "      <td>Never</td>\n",
       "      <td>0.21</td>\n",
       "      <td>Sepeda</td>\n",
       "      <td>Sepeda</td>\n",
       "      <td>Sepeda</td>\n",
       "    </tr>\n",
       "    <tr>\n",
       "      <th>4</th>\n",
       "      <td>1</td>\n",
       "      <td>2024-01-09</td>\n",
       "      <td>56</td>\n",
       "      <td>F</td>\n",
       "      <td>165.3</td>\n",
       "      <td>54.7</td>\n",
       "      <td>Swimming</td>\n",
       "      <td>100</td>\n",
       "      <td>Medium</td>\n",
       "      <td>12.7</td>\n",
       "      <td>...</td>\n",
       "      <td>19.6</td>\n",
       "      <td>69.5</td>\n",
       "      <td>110.7</td>\n",
       "      <td>72.9</td>\n",
       "      <td>NaN</td>\n",
       "      <td>Never</td>\n",
       "      <td>0.33</td>\n",
       "      <td>Sepeda</td>\n",
       "      <td>Sepeda</td>\n",
       "      <td>Sepeda</td>\n",
       "    </tr>\n",
       "  </tbody>\n",
       "</table>\n",
       "<p>5 rows × 25 columns</p>\n",
       "</div>"
      ],
      "text/plain": [
       "   participant_id        date  age gender  height_cm  weight_kg  \\\n",
       "0               1  2024-01-01   56      F      165.3       53.7   \n",
       "1               1  2024-01-04   56      F      165.3       53.9   \n",
       "2               1  2024-01-05   56      F      165.3       54.2   \n",
       "3               1  2024-01-07   56      F      165.3       54.4   \n",
       "4               1  2024-01-09   56      F      165.3       54.7   \n",
       "\n",
       "     activity_type  duration_minutes intensity  calories_burned  ...   bmi  \\\n",
       "0          Dancing                41       Low              3.3  ...  19.6   \n",
       "1         Swimming                28       Low              2.9  ...  19.6   \n",
       "2         Swimming                21    Medium              2.6  ...  19.6   \n",
       "3  Weight Training                99    Medium             10.7  ...  19.6   \n",
       "4         Swimming               100    Medium             12.7  ...  19.6   \n",
       "\n",
       "   resting_heart_rate  blood_pressure_systolic  blood_pressure_diastolic  \\\n",
       "0                69.5                    110.7                      72.9   \n",
       "1                69.5                    110.7                      72.9   \n",
       "2                69.5                    110.7                      72.9   \n",
       "3                69.5                    110.7                      72.9   \n",
       "4                69.5                    110.7                      72.9   \n",
       "\n",
       "   health_condition  smoking_status  fitness_level  recommendation_1  \\\n",
       "0               NaN           Never           0.04          Berenang   \n",
       "1               NaN           Never           0.07          Berjalan   \n",
       "2               NaN           Never           0.09          Berjalan   \n",
       "3               NaN           Never           0.21            Sepeda   \n",
       "4               NaN           Never           0.33            Sepeda   \n",
       "\n",
       "   recommendation_2 recommendation_3  \n",
       "0          Berjalan         Berjalan  \n",
       "1          Berenang           Sepeda  \n",
       "2          Berenang           Sepeda  \n",
       "3            Sepeda           Sepeda  \n",
       "4            Sepeda           Sepeda  \n",
       "\n",
       "[5 rows x 25 columns]"
      ]
     },
     "execution_count": 2,
     "metadata": {},
     "output_type": "execute_result"
    }
   ],
   "source": [
    "df = pd.read_csv('dataset.csv')\n",
    "df.head()"
   ]
  },
  {
   "cell_type": "code",
   "execution_count": 3,
   "id": "e77e8416",
   "metadata": {},
   "outputs": [
    {
     "name": "stdout",
     "output_type": "stream",
     "text": [
      "   age gender  height_cm  weight_kg   bmi recommendation_1 recommendation_2  \\\n",
      "0   56      F      165.3       53.7  19.6         Berenang         Berjalan   \n",
      "1   56      F      165.3       53.9  19.6         Berjalan         Berenang   \n",
      "2   56      F      165.3       54.2  19.6         Berjalan         Berenang   \n",
      "3   56      F      165.3       54.4  19.6           Sepeda           Sepeda   \n",
      "4   56      F      165.3       54.7  19.6           Sepeda           Sepeda   \n",
      "\n",
      "  recommendation_3  \n",
      "0         Berjalan  \n",
      "1           Sepeda  \n",
      "2           Sepeda  \n",
      "3           Sepeda  \n",
      "4           Sepeda  \n"
     ]
    }
   ],
   "source": [
    "df_olahraga = df.head(30000)\n",
    "columns_to_keep = ['age', 'gender', 'height_cm', 'weight_kg', 'bmi', 'recommendation_1', 'recommendation_2', 'recommendation_3' ]\n",
    "\n",
    "df_olahraga = df_olahraga[columns_to_keep]\n",
    "print(df_olahraga.head())"
   ]
  },
  {
   "cell_type": "code",
   "execution_count": 4,
   "id": "0ff1b3aa",
   "metadata": {},
   "outputs": [
    {
     "name": "stdout",
     "output_type": "stream",
     "text": [
      "['F' 'M']\n"
     ]
    }
   ],
   "source": [
    "df_olahraga = df_olahraga[df_olahraga['gender']!= \"Other\"]\n",
    "print(df_olahraga['gender'].unique())"
   ]
  },
  {
   "cell_type": "code",
   "execution_count": 5,
   "id": "800f7dac",
   "metadata": {},
   "outputs": [
    {
     "data": {
      "text/plain": [
       "(29299, 8)"
      ]
     },
     "execution_count": 5,
     "metadata": {},
     "output_type": "execute_result"
    }
   ],
   "source": [
    "df_olahraga.shape"
   ]
  },
  {
   "cell_type": "code",
   "execution_count": 6,
   "id": "47de51fd",
   "metadata": {},
   "outputs": [
    {
     "name": "stdout",
     "output_type": "stream",
     "text": [
      "<bound method Series.unique of 0        Female\n",
      "1        Female\n",
      "2        Female\n",
      "3        Female\n",
      "4        Female\n",
      "          ...  \n",
      "29995      Male\n",
      "29996      Male\n",
      "29997      Male\n",
      "29998      Male\n",
      "29999      Male\n",
      "Name: gender, Length: 29299, dtype: object>\n"
     ]
    }
   ],
   "source": [
    "df_olahraga['gender'] = df_olahraga ['gender'].replace({'F':'Female', 'M' : 'Male'})\n",
    "print(df_olahraga['gender'].unique)"
   ]
  },
  {
   "cell_type": "code",
   "execution_count": 8,
   "id": "d05663f7",
   "metadata": {},
   "outputs": [
    {
     "data": {
      "text/html": [
       "<div>\n",
       "<style scoped>\n",
       "    .dataframe tbody tr th:only-of-type {\n",
       "        vertical-align: middle;\n",
       "    }\n",
       "\n",
       "    .dataframe tbody tr th {\n",
       "        vertical-align: top;\n",
       "    }\n",
       "\n",
       "    .dataframe thead th {\n",
       "        text-align: right;\n",
       "    }\n",
       "</style>\n",
       "<table border=\"1\" class=\"dataframe\">\n",
       "  <thead>\n",
       "    <tr style=\"text-align: right;\">\n",
       "      <th></th>\n",
       "      <th>age</th>\n",
       "      <th>gender</th>\n",
       "      <th>height_cm</th>\n",
       "      <th>weight_kg</th>\n",
       "      <th>bmi</th>\n",
       "      <th>recommendation_1</th>\n",
       "      <th>recommendation_2</th>\n",
       "      <th>recommendation_3</th>\n",
       "    </tr>\n",
       "  </thead>\n",
       "  <tbody>\n",
       "    <tr>\n",
       "      <th>0</th>\n",
       "      <td>56</td>\n",
       "      <td>Female</td>\n",
       "      <td>165.3</td>\n",
       "      <td>53.7</td>\n",
       "      <td>19.6</td>\n",
       "      <td>Berenang</td>\n",
       "      <td>Berjalan</td>\n",
       "      <td>Berjalan</td>\n",
       "    </tr>\n",
       "    <tr>\n",
       "      <th>1</th>\n",
       "      <td>56</td>\n",
       "      <td>Female</td>\n",
       "      <td>165.3</td>\n",
       "      <td>53.9</td>\n",
       "      <td>19.6</td>\n",
       "      <td>Berjalan</td>\n",
       "      <td>Berenang</td>\n",
       "      <td>Sepeda</td>\n",
       "    </tr>\n",
       "    <tr>\n",
       "      <th>2</th>\n",
       "      <td>56</td>\n",
       "      <td>Female</td>\n",
       "      <td>165.3</td>\n",
       "      <td>54.2</td>\n",
       "      <td>19.6</td>\n",
       "      <td>Berjalan</td>\n",
       "      <td>Berenang</td>\n",
       "      <td>Sepeda</td>\n",
       "    </tr>\n",
       "    <tr>\n",
       "      <th>3</th>\n",
       "      <td>56</td>\n",
       "      <td>Female</td>\n",
       "      <td>165.3</td>\n",
       "      <td>54.4</td>\n",
       "      <td>19.6</td>\n",
       "      <td>Sepeda</td>\n",
       "      <td>Sepeda</td>\n",
       "      <td>Sepeda</td>\n",
       "    </tr>\n",
       "    <tr>\n",
       "      <th>4</th>\n",
       "      <td>56</td>\n",
       "      <td>Female</td>\n",
       "      <td>165.3</td>\n",
       "      <td>54.7</td>\n",
       "      <td>19.6</td>\n",
       "      <td>Sepeda</td>\n",
       "      <td>Sepeda</td>\n",
       "      <td>Sepeda</td>\n",
       "    </tr>\n",
       "  </tbody>\n",
       "</table>\n",
       "</div>"
      ],
      "text/plain": [
       "   age  gender  height_cm  weight_kg   bmi recommendation_1 recommendation_2  \\\n",
       "0   56  Female      165.3       53.7  19.6         Berenang         Berjalan   \n",
       "1   56  Female      165.3       53.9  19.6         Berjalan         Berenang   \n",
       "2   56  Female      165.3       54.2  19.6         Berjalan         Berenang   \n",
       "3   56  Female      165.3       54.4  19.6           Sepeda           Sepeda   \n",
       "4   56  Female      165.3       54.7  19.6           Sepeda           Sepeda   \n",
       "\n",
       "  recommendation_3  \n",
       "0         Berjalan  \n",
       "1           Sepeda  \n",
       "2           Sepeda  \n",
       "3           Sepeda  \n",
       "4           Sepeda  "
      ]
     },
     "execution_count": 8,
     "metadata": {},
     "output_type": "execute_result"
    }
   ],
   "source": [
    "df_olahraga.head()"
   ]
  },
  {
   "cell_type": "code",
   "execution_count": 9,
   "id": "06a5be8e",
   "metadata": {},
   "outputs": [
    {
     "name": "stdout",
     "output_type": "stream",
     "text": [
      "age                 0\n",
      "gender              0\n",
      "height_cm           0\n",
      "weight_kg           0\n",
      "bmi                 0\n",
      "recommendation_1    0\n",
      "recommendation_2    0\n",
      "recommendation_3    0\n",
      "dtype: int64\n"
     ]
    }
   ],
   "source": [
    "# Cek missing values\n",
    "print(df_olahraga.isnull().sum())"
   ]
  },
  {
   "cell_type": "code",
   "execution_count": 10,
   "id": "296ddf36",
   "metadata": {},
   "outputs": [
    {
     "name": "stdout",
     "output_type": "stream",
     "text": [
      "0    0\n",
      "1    0\n",
      "2    0\n",
      "3    0\n",
      "4    0\n",
      "Name: gender, dtype: int32\n",
      "Mapping Gender: {0: 'Female', 1: 'Male'}\n"
     ]
    }
   ],
   "source": [
    "# Encode gender\n",
    "label_encoder = LabelEncoder()\n",
    "df_olahraga['gender'] = label_encoder.fit_transform(df_olahraga['gender'])\n",
    "\n",
    "# Cek hasil encoding gender\n",
    "print(df_olahraga['gender'].head())\n",
    "print(\"Mapping Gender:\", dict(enumerate(label_encoder.classes_)))"
   ]
  },
  {
   "cell_type": "code",
   "execution_count": 11,
   "id": "79b7fd8d",
   "metadata": {},
   "outputs": [
    {
     "name": "stdout",
     "output_type": "stream",
     "text": [
      "['Berenang' 'Berjalan' 'Sepeda' 'Weight Training' 'Kardio' 'Yoga' 'Senam'\n",
      " 'HIIT' 'Tidak ada rekomendasi']\n"
     ]
    }
   ],
   "source": [
    "unique_workout_types = df_olahraga['recommendation_1'].unique()\n",
    "print(unique_workout_types)"
   ]
  },
  {
   "cell_type": "code",
   "execution_count": 12,
   "id": "eff8ad6e",
   "metadata": {},
   "outputs": [
    {
     "name": "stdout",
     "output_type": "stream",
     "text": [
      "['Berenang' 'Berjalan' 'Sepeda' 'Weight Training' 'Kardio' 'Yoga' 'Senam'\n",
      " 'HIIT']\n"
     ]
    }
   ],
   "source": [
    "df_olahraga = df_olahraga.loc[df_olahraga['recommendation_1'] != 'Tidak ada rekomendasi']\n",
    "print(df_olahraga['recommendation_1'].unique())"
   ]
  },
  {
   "cell_type": "code",
   "execution_count": 13,
   "id": "829e5083",
   "metadata": {},
   "outputs": [
    {
     "name": "stdout",
     "output_type": "stream",
     "text": [
      "['Berjalan' 'Berenang' 'Sepeda' 'Kardio' 'Weight Training' 'Yoga' 'Senam'\n",
      " 'HIIT']\n"
     ]
    }
   ],
   "source": [
    "df_olahraga = df_olahraga.loc[df_olahraga['recommendation_2'] != 'Tidak ada rekomendasi']\n",
    "print(df_olahraga['recommendation_2'].unique())"
   ]
  },
  {
   "cell_type": "code",
   "execution_count": 14,
   "id": "01ef5816",
   "metadata": {},
   "outputs": [
    {
     "data": {
      "text/plain": [
       "(28862, 8)"
      ]
     },
     "execution_count": 14,
     "metadata": {},
     "output_type": "execute_result"
    }
   ],
   "source": [
    "df_olahraga.shape"
   ]
  },
  {
   "cell_type": "code",
   "execution_count": 15,
   "id": "170c71c3",
   "metadata": {},
   "outputs": [
    {
     "name": "stdout",
     "output_type": "stream",
     "text": [
      "<class 'pandas.core.frame.DataFrame'>\n",
      "Index: 28862 entries, 0 to 29999\n",
      "Data columns (total 8 columns):\n",
      " #   Column            Non-Null Count  Dtype  \n",
      "---  ------            --------------  -----  \n",
      " 0   age               28862 non-null  int64  \n",
      " 1   gender            28862 non-null  int32  \n",
      " 2   height_cm         28862 non-null  float64\n",
      " 3   weight_kg         28862 non-null  float64\n",
      " 4   bmi               28862 non-null  float64\n",
      " 5   recommendation_1  28862 non-null  object \n",
      " 6   recommendation_2  28862 non-null  object \n",
      " 7   recommendation_3  28862 non-null  object \n",
      "dtypes: float64(3), int32(1), int64(1), object(3)\n",
      "memory usage: 1.9+ MB\n"
     ]
    }
   ],
   "source": [
    "df_olahraga.info()"
   ]
  },
  {
   "cell_type": "code",
   "execution_count": 16,
   "id": "7e39da09",
   "metadata": {},
   "outputs": [
    {
     "name": "stdout",
     "output_type": "stream",
     "text": [
      "Sample encoded recommendations:\n",
      " [[1 1 0 0 0 0 0 0]\n",
      " [1 1 0 0 0 0 0 0]\n",
      " [1 1 0 0 0 0 0 0]\n",
      " [0 0 0 0 0 1 0 0]\n",
      " [0 0 0 0 0 1 0 0]]\n",
      "Recommendation Classes: ['Berenang' 'Berjalan' 'HIIT' 'Kardio' 'Senam' 'Sepeda' 'Weight Training'\n",
      " 'Yoga']\n"
     ]
    }
   ],
   "source": [
    "# MultiLabel Binarizer untuk rekomendasi olahraga\n",
    "mlb = MultiLabelBinarizer()\n",
    "recommendation_columns = ['recommendation_1', 'recommendation_2']\n",
    "\n",
    "# Gabungkan rekomendasi menjadi list untuk encoding\n",
    "Y = mlb.fit_transform(df_olahraga[recommendation_columns].values)\n",
    "\n",
    "# Cek hasil encoding\n",
    "print(\"Sample encoded recommendations:\\n\", Y[:5])\n",
    "print(\"Recommendation Classes:\", mlb.classes_)"
   ]
  },
  {
   "cell_type": "code",
   "execution_count": 17,
   "id": "119557c1",
   "metadata": {},
   "outputs": [
    {
     "name": "stdout",
     "output_type": "stream",
     "text": [
      "Sample scaled data:\n",
      " [[ 1.02436241 -1.07127496 -0.50664695 -1.93469333 -0.97428517]\n",
      " [ 1.02436241 -1.07127496 -0.50664695 -1.92572557 -0.97428517]\n",
      " [ 1.02436241 -1.07127496 -0.50664695 -1.91227394 -0.97428517]\n",
      " [ 1.02436241 -1.07127496 -0.50664695 -1.90330619 -0.97428517]\n",
      " [ 1.02436241 -1.07127496 -0.50664695 -1.88985456 -0.97428517]]\n"
     ]
    }
   ],
   "source": [
    "# Define input features\n",
    "X = df_olahraga[['age', 'gender', 'height_cm', 'weight_kg', 'bmi']]\n",
    "\n",
    "# Apply standard scaling\n",
    "scaler = StandardScaler()\n",
    "X_scaled = scaler.fit_transform(X)\n",
    "\n",
    "# Cek hasil scaling\n",
    "print(\"Sample scaled data:\\n\", X_scaled[:5])"
   ]
  },
  {
   "cell_type": "code",
   "execution_count": 18,
   "id": "b66c9c8d",
   "metadata": {},
   "outputs": [
    {
     "name": "stdout",
     "output_type": "stream",
     "text": [
      "Training set size: (23089, 5)\n",
      "Test set size: (5773, 5)\n"
     ]
    }
   ],
   "source": [
    "# Train-Test Split\n",
    "X_train, X_test, Y_train, Y_test = train_test_split(X_scaled, Y, test_size=0.2, random_state=42)\n",
    "\n",
    "# Cek ukuran data train dan test\n",
    "print(f\"Training set size: {X_train.shape}\")\n",
    "print(f\"Test set size: {X_test.shape}\")"
   ]
  },
  {
   "cell_type": "code",
   "execution_count": 19,
   "id": "d43c47f3",
   "metadata": {},
   "outputs": [
    {
     "name": "stderr",
     "output_type": "stream",
     "text": [
      "d:\\cobain\\venv\\Lib\\site-packages\\keras\\src\\layers\\core\\input_layer.py:27: UserWarning: Argument `input_shape` is deprecated. Use `shape` instead.\n",
      "  warnings.warn(\n"
     ]
    }
   ],
   "source": [
    "# Model Architecture\n",
    "model = models.Sequential()\n",
    "model.add(layers.InputLayer(input_shape=(X_train.shape[1],)))\n",
    "model.add(layers.Dense(256, activation='relu'))\n",
    "model.add(layers.Dropout(0.4))\n",
    "model.add(layers.Dense(128, activation='relu'))\n",
    "model.add(layers.Dropout(0.3))\n",
    "model.add(layers.Dense(64, activation='relu'))\n",
    "model.add(layers.Dropout(0.3))\n",
    "model.add(layers.Dense(Y_train.shape[1], activation='sigmoid'))\n",
    "\n"
   ]
  },
  {
   "cell_type": "code",
   "execution_count": 20,
   "id": "aa5c3cff",
   "metadata": {},
   "outputs": [],
   "source": [
    "# Compile model\n",
    "model.compile(optimizer=tf.keras.optimizers.Adam(learning_rate=0.0005), loss='binary_crossentropy', metrics=['accuracy'])\n",
    "\n",
    "# EarlyStopping\n",
    "early_stopping = EarlyStopping(monitor='val_loss', patience=10, restore_best_weights=True, verbose=1)\n"
   ]
  },
  {
   "cell_type": "code",
   "execution_count": 21,
   "id": "c85b7786",
   "metadata": {},
   "outputs": [
    {
     "name": "stdout",
     "output_type": "stream",
     "text": [
      "Epoch 1/100\n",
      "\u001b[1m361/361\u001b[0m \u001b[32m━━━━━━━━━━━━━━━━━━━━\u001b[0m\u001b[37m\u001b[0m \u001b[1m4s\u001b[0m 3ms/step - accuracy: 0.3147 - loss: 0.4607 - val_accuracy: 0.3740 - val_loss: 0.3075\n",
      "Epoch 2/100\n",
      "\u001b[1m361/361\u001b[0m \u001b[32m━━━━━━━━━━━━━━━━━━━━\u001b[0m\u001b[37m\u001b[0m \u001b[1m1s\u001b[0m 2ms/step - accuracy: 0.3509 - loss: 0.3272 - val_accuracy: 0.3509 - val_loss: 0.2885\n",
      "Epoch 3/100\n",
      "\u001b[1m361/361\u001b[0m \u001b[32m━━━━━━━━━━━━━━━━━━━━\u001b[0m\u001b[37m\u001b[0m \u001b[1m1s\u001b[0m 2ms/step - accuracy: 0.3521 - loss: 0.3048 - val_accuracy: 0.3021 - val_loss: 0.2775\n",
      "Epoch 4/100\n",
      "\u001b[1m361/361\u001b[0m \u001b[32m━━━━━━━━━━━━━━━━━━━━\u001b[0m\u001b[37m\u001b[0m \u001b[1m1s\u001b[0m 2ms/step - accuracy: 0.3487 - loss: 0.2931 - val_accuracy: 0.3494 - val_loss: 0.2711\n",
      "Epoch 5/100\n",
      "\u001b[1m361/361\u001b[0m \u001b[32m━━━━━━━━━━━━━━━━━━━━\u001b[0m\u001b[37m\u001b[0m \u001b[1m1s\u001b[0m 2ms/step - accuracy: 0.3608 - loss: 0.2819 - val_accuracy: 0.3591 - val_loss: 0.2691\n",
      "Epoch 6/100\n",
      "\u001b[1m361/361\u001b[0m \u001b[32m━━━━━━━━━━━━━━━━━━━━\u001b[0m\u001b[37m\u001b[0m \u001b[1m1s\u001b[0m 2ms/step - accuracy: 0.3540 - loss: 0.2782 - val_accuracy: 0.2638 - val_loss: 0.2638\n",
      "Epoch 7/100\n",
      "\u001b[1m361/361\u001b[0m \u001b[32m━━━━━━━━━━━━━━━━━━━━\u001b[0m\u001b[37m\u001b[0m \u001b[1m1s\u001b[0m 2ms/step - accuracy: 0.3363 - loss: 0.2732 - val_accuracy: 0.3341 - val_loss: 0.2612\n",
      "Epoch 8/100\n",
      "\u001b[1m361/361\u001b[0m \u001b[32m━━━━━━━━━━━━━━━━━━━━\u001b[0m\u001b[37m\u001b[0m \u001b[1m1s\u001b[0m 2ms/step - accuracy: 0.3623 - loss: 0.2689 - val_accuracy: 0.2293 - val_loss: 0.2606\n",
      "Epoch 9/100\n",
      "\u001b[1m361/361\u001b[0m \u001b[32m━━━━━━━━━━━━━━━━━━━━\u001b[0m\u001b[37m\u001b[0m \u001b[1m1s\u001b[0m 2ms/step - accuracy: 0.3491 - loss: 0.2666 - val_accuracy: 0.2978 - val_loss: 0.2592\n",
      "Epoch 10/100\n",
      "\u001b[1m361/361\u001b[0m \u001b[32m━━━━━━━━━━━━━━━━━━━━\u001b[0m\u001b[37m\u001b[0m \u001b[1m1s\u001b[0m 2ms/step - accuracy: 0.3540 - loss: 0.2639 - val_accuracy: 0.3315 - val_loss: 0.2586\n",
      "Epoch 11/100\n",
      "\u001b[1m361/361\u001b[0m \u001b[32m━━━━━━━━━━━━━━━━━━━━\u001b[0m\u001b[37m\u001b[0m \u001b[1m1s\u001b[0m 2ms/step - accuracy: 0.3453 - loss: 0.2630 - val_accuracy: 0.3944 - val_loss: 0.2583\n",
      "Epoch 12/100\n",
      "\u001b[1m361/361\u001b[0m \u001b[32m━━━━━━━━━━━━━━━━━━━━\u001b[0m\u001b[37m\u001b[0m \u001b[1m1s\u001b[0m 2ms/step - accuracy: 0.3664 - loss: 0.2626 - val_accuracy: 0.3024 - val_loss: 0.2582\n",
      "Epoch 13/100\n",
      "\u001b[1m361/361\u001b[0m \u001b[32m━━━━━━━━━━━━━━━━━━━━\u001b[0m\u001b[37m\u001b[0m \u001b[1m1s\u001b[0m 2ms/step - accuracy: 0.3386 - loss: 0.2613 - val_accuracy: 0.5006 - val_loss: 0.2578\n",
      "Epoch 14/100\n",
      "\u001b[1m361/361\u001b[0m \u001b[32m━━━━━━━━━━━━━━━━━━━━\u001b[0m\u001b[37m\u001b[0m \u001b[1m1s\u001b[0m 2ms/step - accuracy: 0.3617 - loss: 0.2602 - val_accuracy: 0.3161 - val_loss: 0.2579\n",
      "Epoch 15/100\n",
      "\u001b[1m361/361\u001b[0m \u001b[32m━━━━━━━━━━━━━━━━━━━━\u001b[0m\u001b[37m\u001b[0m \u001b[1m1s\u001b[0m 3ms/step - accuracy: 0.3198 - loss: 0.2605 - val_accuracy: 0.2314 - val_loss: 0.2578\n",
      "Epoch 16/100\n",
      "\u001b[1m361/361\u001b[0m \u001b[32m━━━━━━━━━━━━━━━━━━━━\u001b[0m\u001b[37m\u001b[0m \u001b[1m1s\u001b[0m 2ms/step - accuracy: 0.3195 - loss: 0.2595 - val_accuracy: 0.3142 - val_loss: 0.2579\n",
      "Epoch 17/100\n",
      "\u001b[1m361/361\u001b[0m \u001b[32m━━━━━━━━━━━━━━━━━━━━\u001b[0m\u001b[37m\u001b[0m \u001b[1m1s\u001b[0m 3ms/step - accuracy: 0.3223 - loss: 0.2596 - val_accuracy: 0.4317 - val_loss: 0.2577\n",
      "Epoch 18/100\n",
      "\u001b[1m361/361\u001b[0m \u001b[32m━━━━━━━━━━━━━━━━━━━━\u001b[0m\u001b[37m\u001b[0m \u001b[1m1s\u001b[0m 2ms/step - accuracy: 0.3745 - loss: 0.2593 - val_accuracy: 0.3163 - val_loss: 0.2578\n",
      "Epoch 19/100\n",
      "\u001b[1m361/361\u001b[0m \u001b[32m━━━━━━━━━━━━━━━━━━━━\u001b[0m\u001b[37m\u001b[0m \u001b[1m1s\u001b[0m 2ms/step - accuracy: 0.3270 - loss: 0.2594 - val_accuracy: 0.3480 - val_loss: 0.2579\n",
      "Epoch 20/100\n",
      "\u001b[1m361/361\u001b[0m \u001b[32m━━━━━━━━━━━━━━━━━━━━\u001b[0m\u001b[37m\u001b[0m \u001b[1m1s\u001b[0m 2ms/step - accuracy: 0.3085 - loss: 0.2593 - val_accuracy: 0.4391 - val_loss: 0.2580\n",
      "Epoch 21/100\n",
      "\u001b[1m361/361\u001b[0m \u001b[32m━━━━━━━━━━━━━━━━━━━━\u001b[0m\u001b[37m\u001b[0m \u001b[1m1s\u001b[0m 2ms/step - accuracy: 0.3376 - loss: 0.2589 - val_accuracy: 0.2623 - val_loss: 0.2578\n",
      "Epoch 22/100\n",
      "\u001b[1m361/361\u001b[0m \u001b[32m━━━━━━━━━━━━━━━━━━━━\u001b[0m\u001b[37m\u001b[0m \u001b[1m1s\u001b[0m 2ms/step - accuracy: 0.2960 - loss: 0.2587 - val_accuracy: 0.5566 - val_loss: 0.2575\n",
      "Epoch 23/100\n",
      "\u001b[1m361/361\u001b[0m \u001b[32m━━━━━━━━━━━━━━━━━━━━\u001b[0m\u001b[37m\u001b[0m \u001b[1m1s\u001b[0m 2ms/step - accuracy: 0.3473 - loss: 0.2590 - val_accuracy: 0.2515 - val_loss: 0.2578\n",
      "Epoch 24/100\n",
      "\u001b[1m361/361\u001b[0m \u001b[32m━━━━━━━━━━━━━━━━━━━━\u001b[0m\u001b[37m\u001b[0m \u001b[1m1s\u001b[0m 2ms/step - accuracy: 0.3425 - loss: 0.2584 - val_accuracy: 0.3877 - val_loss: 0.2577\n",
      "Epoch 25/100\n",
      "\u001b[1m361/361\u001b[0m \u001b[32m━━━━━━━━━━━━━━━━━━━━\u001b[0m\u001b[37m\u001b[0m \u001b[1m1s\u001b[0m 2ms/step - accuracy: 0.3584 - loss: 0.2587 - val_accuracy: 0.2226 - val_loss: 0.2578\n",
      "Epoch 26/100\n",
      "\u001b[1m361/361\u001b[0m \u001b[32m━━━━━━━━━━━━━━━━━━━━\u001b[0m\u001b[37m\u001b[0m \u001b[1m1s\u001b[0m 2ms/step - accuracy: 0.3442 - loss: 0.2586 - val_accuracy: 0.1853 - val_loss: 0.2577\n",
      "Epoch 27/100\n",
      "\u001b[1m361/361\u001b[0m \u001b[32m━━━━━━━━━━━━━━━━━━━━\u001b[0m\u001b[37m\u001b[0m \u001b[1m1s\u001b[0m 3ms/step - accuracy: 0.2889 - loss: 0.2584 - val_accuracy: 0.2657 - val_loss: 0.2580\n",
      "Epoch 28/100\n",
      "\u001b[1m361/361\u001b[0m \u001b[32m━━━━━━━━━━━━━━━━━━━━\u001b[0m\u001b[37m\u001b[0m \u001b[1m1s\u001b[0m 3ms/step - accuracy: 0.3070 - loss: 0.2584 - val_accuracy: 0.2853 - val_loss: 0.2578\n",
      "Epoch 29/100\n",
      "\u001b[1m361/361\u001b[0m \u001b[32m━━━━━━━━━━━━━━━━━━━━\u001b[0m\u001b[37m\u001b[0m \u001b[1m1s\u001b[0m 3ms/step - accuracy: 0.2986 - loss: 0.2583 - val_accuracy: 0.2590 - val_loss: 0.2576\n",
      "Epoch 30/100\n",
      "\u001b[1m361/361\u001b[0m \u001b[32m━━━━━━━━━━━━━━━━━━━━\u001b[0m\u001b[37m\u001b[0m \u001b[1m1s\u001b[0m 3ms/step - accuracy: 0.3313 - loss: 0.2583 - val_accuracy: 0.3411 - val_loss: 0.2579\n",
      "Epoch 31/100\n",
      "\u001b[1m361/361\u001b[0m \u001b[32m━━━━━━━━━━━━━━━━━━━━\u001b[0m\u001b[37m\u001b[0m \u001b[1m1s\u001b[0m 3ms/step - accuracy: 0.3141 - loss: 0.2580 - val_accuracy: 0.3528 - val_loss: 0.2576\n",
      "Epoch 32/100\n",
      "\u001b[1m361/361\u001b[0m \u001b[32m━━━━━━━━━━━━━━━━━━━━\u001b[0m\u001b[37m\u001b[0m \u001b[1m1s\u001b[0m 3ms/step - accuracy: 0.3639 - loss: 0.2582 - val_accuracy: 0.3402 - val_loss: 0.2577\n",
      "Epoch 32: early stopping\n",
      "Restoring model weights from the end of the best epoch: 22.\n"
     ]
    }
   ],
   "source": [
    "# Train model\n",
    "history = model.fit(X_train, Y_train, epochs=100, batch_size=64, validation_data=(X_test, Y_test), callbacks=[early_stopping])"
   ]
  },
  {
   "cell_type": "code",
   "execution_count": 22,
   "id": "f9c6fd22",
   "metadata": {},
   "outputs": [
    {
     "name": "stdout",
     "output_type": "stream",
     "text": [
      "\u001b[1m181/181\u001b[0m \u001b[32m━━━━━━━━━━━━━━━━━━━━\u001b[0m\u001b[37m\u001b[0m \u001b[1m0s\u001b[0m 1ms/step - accuracy: 0.5495 - loss: 0.2575\n",
      "Test Loss: 0.2575\n",
      "Test Accuracy: 0.5566\n"
     ]
    }
   ],
   "source": [
    "# Evaluate model\n",
    "test_loss, test_acc = model.evaluate(X_test, Y_test)\n",
    "print(f\"Test Loss: {test_loss:.4f}\")\n",
    "print(f\"Test Accuracy: {test_acc:.4f}\")"
   ]
  },
  {
   "cell_type": "code",
   "execution_count": 23,
   "id": "f906058e",
   "metadata": {},
   "outputs": [
    {
     "name": "stderr",
     "output_type": "stream",
     "text": [
      "WARNING:absl:You are saving your model as an HDF5 file via `model.save()` or `keras.saving.save_model(model)`. This file format is considered legacy. We recommend using instead the native Keras format, e.g. `model.save('my_model.keras')` or `keras.saving.save_model(model, 'my_model.keras')`. \n"
     ]
    }
   ],
   "source": [
    "# Save model\n",
    "model.save('model_olahraga54.h5')\n",
    "\n",
    "# Save label_encoder, scaler, mlb menggunakan pickle\n",
    "import pickle\n",
    "\n",
    "with open('label_encoder54.pkl', 'wb') as f:\n",
    "    pickle.dump(label_encoder, f)\n",
    "\n",
    "with open('scaler54.pkl', 'wb') as f:\n",
    "    pickle.dump(scaler, f)\n",
    "\n",
    "with open('mlb54.pkl', 'wb') as f:\n",
    "    pickle.dump(mlb, f)"
   ]
  }
 ],
 "metadata": {
  "kernelspec": {
   "display_name": "venv",
   "language": "python",
   "name": "python3"
  },
  "language_info": {
   "codemirror_mode": {
    "name": "ipython",
    "version": 3
   },
   "file_extension": ".py",
   "mimetype": "text/x-python",
   "name": "python",
   "nbconvert_exporter": "python",
   "pygments_lexer": "ipython3",
   "version": "3.11.0"
  }
 },
 "nbformat": 4,
 "nbformat_minor": 5
}
